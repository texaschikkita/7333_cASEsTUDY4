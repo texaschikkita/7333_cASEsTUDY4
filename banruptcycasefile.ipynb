{
 "cells": [
  {
   "cell_type": "code",
   "execution_count": 1,
   "metadata": {},
   "outputs": [
    {
     "name": "stdout",
     "output_type": "stream",
     "text": [
      "RandomizedSearchCV Time: 364.85 seconds\n",
      "Accuracy: 0.969\n",
      "Recall: 0.433\n",
      "Precision: 0.886\n"
     ]
    },
    {
     "data": {
      "image/png": "[encoded data removed]",
      "text/plain": [
       "<Figure size 640x480 with 2 Axes>"
      ]
     },
     "metadata": {},
     "output_type": "display_data"
    }
   ],
   "source": [
    "import pandas as pd\n",
    "import numpy as np\n",
    "import matplotlib.pyplot as plt\n",
    "import seaborn as sns\n",
    "from time import time\n",
    "from scipy.stats import randint as sp_randint\n",
    "from sklearn.model_selection import train_test_split, RandomizedSearchCV\n",
    "from sklearn.preprocessing import RobustScaler\n",
    "from sklearn.impute import SimpleImputer\n",
    "from sklearn.ensemble import RandomForestClassifier\n",
    "from sklearn.metrics import accuracy_score, recall_score, precision_score, confusion_matrix, ConfusionMatrixDisplay\n",
    "\n",
    "# Load CSV file\n",
    "file_path = \"merged_data.csv\"  # Ensure the file is in your working directory\n",
    "\n",
    "# Read the dataset\n",
    "df = pd.read_csv(file_path)\n",
    "\n",
    "# Convert class labels to integers if needed\n",
    "df['class'] = df['class'].replace({b'0': 0, b'1': 1}).astype(int)\n",
    "\n",
    "# Drop specified columns if they exist\n",
    "df = df.drop([\"Attr21\", \"Attr37\"], axis=1, errors='ignore')\n",
    "\n",
    "# Prepare train/test data\n",
    "X = df.loc[:, df.columns != 'class'].values\n",
    "y = df['class'].values\n",
    "\n",
    "X_train, X_test, y_train, y_test = train_test_split(X, y, test_size=0.33, random_state=42)\n",
    "\n",
    "# Impute missing values\n",
    "imp_mean = SimpleImputer(missing_values=np.nan, strategy='mean')\n",
    "X_train = imp_mean.fit_transform(X_train)\n",
    "X_test = imp_mean.transform(X_test)\n",
    "\n",
    "# Normalize data\n",
    "transformer = RobustScaler().fit(X_train)\n",
    "X_train = transformer.transform(X_train)\n",
    "X_test = transformer.transform(X_test)\n",
    "\n",
    "# Build classifier\n",
    "clf = RandomForestClassifier(n_estimators=20)\n",
    "\n",
    "# Define hyperparameter search space\n",
    "param_dist = {\n",
    "    \"max_depth\": [3, None],\n",
    "    \"max_features\": sp_randint(1, 11),\n",
    "    \"min_samples_split\": sp_randint(2, 11),\n",
    "    \"bootstrap\": [True, False],\n",
    "    \"criterion\": [\"gini\", \"entropy\"]\n",
    "}\n",
    "\n",
    "# Run randomized search\n",
    "n_iter_search = 20\n",
    "random_search = RandomizedSearchCV(clf, param_distributions=param_dist, n_iter=n_iter_search, random_state=42)\n",
    "start = time()\n",
    "random_search.fit(X_train, y_train)\n",
    "search_time = time() - start\n",
    "\n",
    "# Evaluate model\n",
    "y_hat_rf_test = random_search.predict(X_test)\n",
    "accuracy = accuracy_score(y_hat_rf_test, y_test)\n",
    "recall = recall_score(y_test, y_hat_rf_test, pos_label=1, average='binary')\n",
    "precision = precision_score(y_test, y_hat_rf_test, pos_label=1, average='binary')\n",
    "\n",
    "# Confusion matrix\n",
    "conf_matrix = confusion_matrix(y_test, y_hat_rf_test)\n",
    "\n",
    "# Display confusion matrix\n",
    "disp = ConfusionMatrixDisplay(confusion_matrix=conf_matrix)\n",
    "disp.plot()\n",
    "\n",
    "# Print results\n",
    "print(f\"RandomizedSearchCV Time: {search_time:.2f} seconds\")\n",
    "print(f\"Accuracy: {accuracy:.3f}\")\n",
    "print(f\"Recall: {recall:.3f}\")\n",
    "print(f\"Precision: {precision:.3f}\")\n"
   ]
  },
  {
   "cell_type": "code",
   "execution_count": null,
   "metadata": {},
   "outputs": [],
   "source": [
    "from sklearn.model_selection import cross_val_score\n",
    "from sklearn.ensemble import GradientBoostingClassifier # Import GradientBoostingClassifier\n",
    "\n",
    "# GBM \n",
    "GBM = GradientBoostingClassifier() # Create and assign the model to GBM\n",
    "\n",
    "# Perform 5-fold cross-validation to assess model generalization\n",
    "cv_scores = cross_val_score(GBM, X_train, y_train, cv=5, scoring=\"accuracy\")\n",
    "\n",
    "# Print results\n",
    "print(f\"Cross-Validation Accuracy Scores: {cv_scores}\")\n",
    "print(f\"Mean CV Accuracy: {np.mean(cv_scores):.3f}\")\n",
    "print(f\"Standard Deviation of Accuracy: {np.std(cv_scores):.3f}\")"
   ]
  },
  {
   "cell_type": "code",
   "execution_count": null,
   "metadata": {},
   "outputs": [],
   "source": []
  }
 ],
 "metadata": {
  "kernelspec": {
   "display_name": "pythonGPU",
   "language": "python",
   "name": "python3"
  },
  "language_info": {
   "codemirror_mode": {
    "name": "ipython",
    "version": 3
   },
   "file_extension": ".py",
   "mimetype": "text/x-python",
   "name": "python",
   "nbconvert_exporter": "python",
   "pygments_lexer": "ipython3",
   "version": "3.10.15"
  }
 },
 "nbformat": 4,
 "nbformat_minor": 2
}
