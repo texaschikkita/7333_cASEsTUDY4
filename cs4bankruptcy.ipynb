{
 "cells": [
  {
   "cell_type": "code",
   "execution_count": 3,
   "metadata": {},
   "outputs": [
    {
     "name": "stdout",
     "output_type": "stream",
     "text": [
      "Collecting yellowbrick\n",
      "  Downloading yellowbrick-1.5-py3-none-any.whl.metadata (7.7 kB)\n",
      "Requirement already satisfied: matplotlib!=3.0.0,>=2.0.2 in c:\\programdata\\miniforge3\\envs\\pythongpu\\lib\\site-packages (from yellowbrick) (3.9.3)\n",
      "Requirement already satisfied: scipy>=1.0.0 in c:\\programdata\\miniforge3\\envs\\pythongpu\\lib\\site-packages (from yellowbrick) (1.14.1)\n",
      "Requirement already satisfied: scikit-learn>=1.0.0 in c:\\programdata\\miniforge3\\envs\\pythongpu\\lib\\site-packages (from yellowbrick) (1.5.2)\n",
      "Requirement already satisfied: numpy>=1.16.0 in c:\\programdata\\miniforge3\\envs\\pythongpu\\lib\\site-packages (from yellowbrick) (2.1.3)\n",
      "Requirement already satisfied: cycler>=0.10.0 in c:\\programdata\\miniforge3\\envs\\pythongpu\\lib\\site-packages (from yellowbrick) (0.12.1)\n",
      "Requirement already satisfied: contourpy>=1.0.1 in c:\\programdata\\miniforge3\\envs\\pythongpu\\lib\\site-packages (from matplotlib!=3.0.0,>=2.0.2->yellowbrick) (1.3.1)\n",
      "Requirement already satisfied: fonttools>=4.22.0 in c:\\programdata\\miniforge3\\envs\\pythongpu\\lib\\site-packages (from matplotlib!=3.0.0,>=2.0.2->yellowbrick) (4.55.1)\n",
      "Requirement already satisfied: kiwisolver>=1.3.1 in c:\\programdata\\miniforge3\\envs\\pythongpu\\lib\\site-packages (from matplotlib!=3.0.0,>=2.0.2->yellowbrick) (1.4.7)\n",
      "Requirement already satisfied: packaging>=20.0 in c:\\programdata\\miniforge3\\envs\\pythongpu\\lib\\site-packages (from matplotlib!=3.0.0,>=2.0.2->yellowbrick) (24.2)\n",
      "Requirement already satisfied: pillow>=8 in c:\\programdata\\miniforge3\\envs\\pythongpu\\lib\\site-packages (from matplotlib!=3.0.0,>=2.0.2->yellowbrick) (10.4.0)\n",
      "Requirement already satisfied: pyparsing>=2.3.1 in c:\\programdata\\miniforge3\\envs\\pythongpu\\lib\\site-packages (from matplotlib!=3.0.0,>=2.0.2->yellowbrick) (3.2.0)\n",
      "Requirement already satisfied: python-dateutil>=2.7 in c:\\programdata\\miniforge3\\envs\\pythongpu\\lib\\site-packages (from matplotlib!=3.0.0,>=2.0.2->yellowbrick) (2.9.0.post0)\n",
      "Requirement already satisfied: joblib>=1.2.0 in c:\\programdata\\miniforge3\\envs\\pythongpu\\lib\\site-packages (from scikit-learn>=1.0.0->yellowbrick) (1.4.2)\n",
      "Requirement already satisfied: threadpoolctl>=3.1.0 in c:\\programdata\\miniforge3\\envs\\pythongpu\\lib\\site-packages (from scikit-learn>=1.0.0->yellowbrick) (3.5.0)\n",
      "Requirement already satisfied: six>=1.5 in c:\\programdata\\miniforge3\\envs\\pythongpu\\lib\\site-packages (from python-dateutil>=2.7->matplotlib!=3.0.0,>=2.0.2->yellowbrick) (1.16.0)\n",
      "Downloading yellowbrick-1.5-py3-none-any.whl (282 kB)\n",
      "Installing collected packages: yellowbrick\n",
      "Successfully installed yellowbrick-1.5\n"
     ]
    }
   ],
   "source": [
    "!pip install yellowbrick\n"
   ]
  },
  {
   "cell_type": "code",
   "execution_count": 4,
   "metadata": {},
   "outputs": [],
   "source": [
    "#importing libraries and reading in file\n",
    "import numpy as np\n",
    "import pandas as pd\n",
    "import matplotlib.pyplot as plt\n",
    "import seaborn as sns\n",
    "from time import time\n",
    "from scipy.stats import randint as sp_randint\n",
    "\n",
    "#general sklearn libraries\n",
    "from sklearn.model_selection import train_test_split\n",
    "from sklearn.model_selection import GridSearchCV\n",
    "from sklearn.preprocessing import StandardScaler\n",
    "from sklearn.preprocessing import RobustScaler\n",
    "from sklearn.preprocessing import MinMaxScaler\n",
    "from sklearn.metrics import accuracy_score\n",
    "from sklearn.metrics import recall_score\n",
    "from sklearn.metrics import precision_score\n",
    "from sklearn.metrics import f1_score\n",
    "from sklearn.impute import SimpleImputer\n",
    "from sklearn.model_selection import RandomizedSearchCV\n",
    "from sklearn.ensemble import RandomForestClassifier\n",
    "from sklearn.metrics import average_precision_score\n",
    "from sklearn.metrics import precision_recall_curve\n",
    "from sklearn.metrics import PrecisionRecallDisplay\n",
    "from sklearn.metrics import confusion_matrix\n",
    "from sklearn.ensemble import GradientBoostingClassifier\n",
    "from sklearn.metrics import RocCurveDisplay\n",
    "from sklearn.metrics import ConfusionMatrixDisplay\n",
    "from sklearn.metrics import PrecisionRecallDisplay\n",
    "\n",
    "# Yellowbrick\n",
    "from yellowbrick.model_selection import FeatureImportances\n",
    "\n",
    "#Pipeline\n",
    "from sklearn.pipeline import make_pipeline\n",
    "\n",
    "# Files\n",
    "from os import listdir, getcwd, chdir\n",
    "from os.path import isfile, join, dirname, realpath\n",
    "from scipy.io import arff\n"
   ]
  },
  {
   "cell_type": "code",
   "execution_count": null,
   "metadata": {},
   "outputs": [],
   "source": []
  }
 ],
 "metadata": {
  "kernelspec": {
   "display_name": "Python (pythonGPU)",
   "language": "python",
   "name": "pythongpu"
  },
  "language_info": {
   "codemirror_mode": {
    "name": "ipython",
    "version": 3
   },
   "file_extension": ".py",
   "mimetype": "text/x-python",
   "name": "python",
   "nbconvert_exporter": "python",
   "pygments_lexer": "ipython3",
   "version": "3.10.15"
  }
 },
 "nbformat": 4,
 "nbformat_minor": 2
}
